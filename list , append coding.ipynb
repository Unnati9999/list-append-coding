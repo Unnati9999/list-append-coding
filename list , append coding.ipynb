{
 "cells": [
  {
   "cell_type": "code",
   "execution_count": 24,
   "id": "c6531007-51d1-46b6-98ec-4fe44aaf857b",
   "metadata": {},
   "outputs": [],
   "source": [
    "l = [1,2,3,4,5,6,7]"
   ]
  },
  {
   "cell_type": "code",
   "execution_count": 27,
   "id": "4d4ab691-b43e-4275-a00d-894a20d9747b",
   "metadata": {},
   "outputs": [
    {
     "name": "stdout",
     "output_type": "stream",
     "text": [
      "2\n",
      "3\n",
      "4\n",
      "5\n",
      "6\n",
      "7\n",
      "8\n"
     ]
    },
    {
     "data": {
      "text/plain": [
       "[2, 3, 4, 5, 6, 7, 8]"
      ]
     },
     "execution_count": 27,
     "metadata": {},
     "output_type": "execute_result"
    }
   ],
   "source": [
    "l1 = []\n",
    "for i in l :\n",
    "    print(i+1)\n",
    "    l1.append(i+1)\n",
    "l1"
   ]
  },
  {
   "cell_type": "code",
   "execution_count": 28,
   "id": "71e0f9f4-933b-436c-bafb-c49010ecd4f5",
   "metadata": {},
   "outputs": [
    {
     "data": {
      "text/plain": [
       "[1, 2, 3, 4, 5, 6, 7]"
      ]
     },
     "execution_count": 28,
     "metadata": {},
     "output_type": "execute_result"
    }
   ],
   "source": [
    "l"
   ]
  },
  {
   "cell_type": "code",
   "execution_count": 29,
   "id": "2ef65cb4-e0a6-467d-8c12-961274e1ab34",
   "metadata": {},
   "outputs": [],
   "source": [
    "l = [\"okay\",\"course\",\"pwskills\"]"
   ]
  },
  {
   "cell_type": "code",
   "execution_count": 33,
   "id": "d0beda8d-c3a1-427d-83dd-605387e88776",
   "metadata": {},
   "outputs": [
    {
     "name": "stdout",
     "output_type": "stream",
     "text": [
      "okay\n",
      "course\n",
      "pwskills\n"
     ]
    }
   ],
   "source": [
    "l1 = []\n",
    "for i in l :\n",
    "    print(i)\n",
    "    l1.append(i.upper())"
   ]
  },
  {
   "cell_type": "code",
   "execution_count": 34,
   "id": "0f5843d2-3f33-4c6e-8e7a-663e0ba01127",
   "metadata": {},
   "outputs": [
    {
     "data": {
      "text/plain": [
       "['okay', 'course', 'pwskills']"
      ]
     },
     "execution_count": 34,
     "metadata": {},
     "output_type": "execute_result"
    }
   ],
   "source": [
    "l"
   ]
  },
  {
   "cell_type": "code",
   "execution_count": 35,
   "id": "2dfc7459-cbbe-4052-bdf4-b86a535321b9",
   "metadata": {},
   "outputs": [
    {
     "data": {
      "text/plain": [
       "['OKAY', 'COURSE', 'PWSKILLS']"
      ]
     },
     "execution_count": 35,
     "metadata": {},
     "output_type": "execute_result"
    }
   ],
   "source": [
    "l1"
   ]
  },
  {
   "cell_type": "code",
   "execution_count": 36,
   "id": "8ed1941d-d921-4eb8-9c7f-2941b49a4346",
   "metadata": {},
   "outputs": [],
   "source": [
    "l = [1,2,3,4,5,5,\"unnu\",\"great\",\"course\",324,32.569,\"abc\"]"
   ]
  },
  {
   "cell_type": "code",
   "execution_count": 43,
   "id": "7778d7e7-ee6f-4d3d-a312-047ad90f6825",
   "metadata": {},
   "outputs": [],
   "source": [
    "l1_num = []\n",
    "l2_str = []\n",
    "for i in l :\n",
    "    if type(i) == int or type(i) == float :\n",
    "        l1_num.append(i)\n",
    "    else:\n",
    "        l2_str.append(i)"
   ]
  },
  {
   "cell_type": "code",
   "execution_count": 45,
   "id": "836fd81f-16f5-490a-a929-d68b8b2ca2cc",
   "metadata": {},
   "outputs": [
    {
     "data": {
      "text/plain": [
       "[1, 2, 3, 4, 5, 5, 324, 32.569]"
      ]
     },
     "execution_count": 45,
     "metadata": {},
     "output_type": "execute_result"
    }
   ],
   "source": [
    "l1_num"
   ]
  },
  {
   "cell_type": "code",
   "execution_count": 46,
   "id": "d363c269-a611-4fa3-ade7-e1e7066747a2",
   "metadata": {},
   "outputs": [
    {
     "data": {
      "text/plain": [
       "['unnu', 'great', 'course', 'abc']"
      ]
     },
     "execution_count": 46,
     "metadata": {},
     "output_type": "execute_result"
    }
   ],
   "source": [
    "l2_str"
   ]
  },
  {
   "cell_type": "code",
   "execution_count": null,
   "id": "357114c6-03b9-4cfd-93a3-0bdb9bf3bd56",
   "metadata": {},
   "outputs": [],
   "source": []
  }
 ],
 "metadata": {
  "kernelspec": {
   "display_name": "Python 3 (ipykernel)",
   "language": "python",
   "name": "python3"
  },
  "language_info": {
   "codemirror_mode": {
    "name": "ipython",
    "version": 3
   },
   "file_extension": ".py",
   "mimetype": "text/x-python",
   "name": "python",
   "nbconvert_exporter": "python",
   "pygments_lexer": "ipython3",
   "version": "3.10.8"
  }
 },
 "nbformat": 4,
 "nbformat_minor": 5
}
